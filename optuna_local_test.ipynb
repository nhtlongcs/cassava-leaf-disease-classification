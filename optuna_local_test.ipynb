{
 "cells": [
  {
   "cell_type": "code",
   "execution_count": 1,
   "metadata": {},
   "outputs": [
    {
     "name": "stdout",
     "output_type": "stream",
     "text": [
      "\u001b[32m[I 2020-12-12 03:15:02,726]\u001b[0m A new study created in memory with name: optuna_v0\u001b[0m\n",
      "2020-12-12 03:15:11.029351: I tensorflow/stream_executor/platform/default/dso_loader.cc:48] Successfully opened dynamic library libcudart.so.10.1\n",
      "\n",
      "Epoch   0\n",
      "-----------------------------------\n",
      "Training........\n",
      "  0%|                                          | 7/4814 [00:03<42:07,  1.90it/s]^C\n",
      "  0%|                                          | 7/4814 [00:04<47:39,  1.68it/s]\n",
      "Traceback (most recent call last):\n",
      "  File \"hyperparams_tuner.py\", line 145, in <module>\n",
      "    study.optimize(Objective(config), n_trials=int(args.optuna_n_trials))\n",
      "  File \"/home/kvu/cassava-leaf-disease-classification/venv/lib/python3.8/site-packages/optuna/study.py\", line 306, in optimize\n",
      "    _optimize(\n",
      "  File \"/home/kvu/cassava-leaf-disease-classification/venv/lib/python3.8/site-packages/optuna/_optimize.py\", line 55, in _optimize\n",
      "    _optimize_sequential(\n",
      "  File \"/home/kvu/cassava-leaf-disease-classification/venv/lib/python3.8/site-packages/optuna/_optimize.py\", line 156, in _optimize_sequential\n",
      "    trial = _run_trial(study, func, catch)\n",
      "  File \"/home/kvu/cassava-leaf-disease-classification/venv/lib/python3.8/site-packages/optuna/_optimize.py\", line 189, in _run_trial\n",
      "    value = func(trial)\n",
      "  File \"hyperparams_tuner.py\", line 122, in __call__\n",
      "    val_acc = train(trial, self.config)\n",
      "  File \"hyperparams_tuner.py\", line 114, in train\n",
      "    trainer.train(train_dataloader=train_dataloader, val_dataloader=val_dataloader)\n",
      "  File \"./libs/workers/trainer.py\", line 179, in train\n",
      "    self.train_epoch(epoch=epoch, dataloader=train_dataloader)\n",
      "  File \"./libs/workers/trainer.py\", line 106, in train_epoch\n",
      "    self.scaler.step(self.optimizer)\n",
      "  File \"/home/kvu/cassava-leaf-disease-classification/venv/lib/python3.8/site-packages/torch/cuda/amp/grad_scaler.py\", line 321, in step\n",
      "    retval = optimizer.step(*args, **kwargs)\n",
      "  File \"/home/kvu/cassava-leaf-disease-classification/venv/lib/python3.8/site-packages/torch/optim/lr_scheduler.py\", line 67, in wrapper\n",
      "    return wrapped(*args, **kwargs)\n",
      "  File \"/home/kvu/cassava-leaf-disease-classification/venv/lib/python3.8/site-packages/torch/autograd/grad_mode.py\", line 26, in decorate_context\n",
      "    return func(*args, **kwargs)\n",
      "  File \"/home/kvu/cassava-leaf-disease-classification/venv/lib/python3.8/site-packages/torch/optim/rmsprop.py\", line 92, in step\n",
      "    grad = grad.add(p, alpha=group['weight_decay'])\n",
      "KeyboardInterrupt\n",
      "\u001b[0m"
     ]
    }
   ],
   "source": [
    "!python3 hyperparams_tuner.py --config configs/vit.yaml --gpus 0 --fp16 --optuna_n_trials=1"
   ]
  },
  {
   "cell_type": "code",
   "execution_count": null,
   "metadata": {},
   "outputs": [],
   "source": []
  }
 ],
 "metadata": {
  "kernelspec": {
   "display_name": "Python 3",
   "language": "python",
   "name": "python3"
  },
  "language_info": {
   "codemirror_mode": {
    "name": "ipython",
    "version": 3
   },
   "file_extension": ".py",
   "mimetype": "text/x-python",
   "name": "python",
   "nbconvert_exporter": "python",
   "pygments_lexer": "ipython3",
   "version": "3.8.5"
  }
 },
 "nbformat": 4,
 "nbformat_minor": 4
}

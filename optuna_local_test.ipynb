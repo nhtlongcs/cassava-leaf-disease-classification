{
 "cells": [
  {
   "cell_type": "code",
   "execution_count": 1,
   "metadata": {},
   "outputs": [
    {
     "name": "stdout",
     "output_type": "stream",
     "text": [
      "\u001b[32m[I 2020-12-12 02:08:07,256]\u001b[0m A new study created in memory with name: optuna_v0\u001b[0m\n",
      "Selected optimization level O2:  FP16 training with FP32 batchnorm and FP32 master weights.\n",
      "\n",
      "Defaults for this optimization level are:\n",
      "enabled                : True\n",
      "opt_level              : O2\n",
      "cast_model_type        : torch.float16\n",
      "patch_torch_functions  : False\n",
      "keep_batchnorm_fp32    : True\n",
      "master_weights         : True\n",
      "loss_scale             : dynamic\n",
      "Processing user overrides (additional kwargs that are not None)...\n",
      "After processing overrides, optimization options are:\n",
      "enabled                : True\n",
      "opt_level              : O2\n",
      "cast_model_type        : torch.float16\n",
      "patch_torch_functions  : False\n",
      "keep_batchnorm_fp32    : True\n",
      "master_weights         : True\n",
      "loss_scale             : dynamic\n",
      "Warning:  multi_tensor_applier fused unscale kernel is unavailable, possibly because apex was installed without --cuda_ext --cpp_ext. Using Python fallback.  Original ImportError was: ModuleNotFoundError(\"No module named 'amp_C'\")\n",
      "2020-12-12 02:08:10.238889: I tensorflow/stream_executor/platform/default/dso_loader.cc:48] Successfully opened dynamic library libcudart.so.10.1\n",
      "\n",
      "Epoch   0\n",
      "-----------------------------------\n",
      "Training........\n",
      "  0%|                                          | 7/4814 [00:04<48:22,  1.66it/s]^C\n",
      "  0%|                                          | 7/4814 [00:04<53:42,  1.49it/s]\n",
      "Traceback (most recent call last):\n",
      "  File \"hyperparams_tuner.py\", line 155, in <module>\n",
      "    study.optimize(Objective(config), n_trials=int(args.optuna_n_trials))\n",
      "  File \"/home/kvu/cassava-leaf-disease-classification/venv/lib/python3.8/site-packages/optuna/study.py\", line 306, in optimize\n",
      "    _optimize(\n",
      "  File \"/home/kvu/cassava-leaf-disease-classification/venv/lib/python3.8/site-packages/optuna/_optimize.py\", line 55, in _optimize\n",
      "    _optimize_sequential(\n",
      "  File \"/home/kvu/cassava-leaf-disease-classification/venv/lib/python3.8/site-packages/optuna/_optimize.py\", line 156, in _optimize_sequential\n",
      "    trial = _run_trial(study, func, catch)\n",
      "  File \"/home/kvu/cassava-leaf-disease-classification/venv/lib/python3.8/site-packages/optuna/_optimize.py\", line 189, in _run_trial\n",
      "    value = func(trial)\n",
      "  File \"hyperparams_tuner.py\", line 130, in __call__\n",
      "    val_acc = train(trial, self.config)\n",
      "  File \"hyperparams_tuner.py\", line 122, in train\n",
      "    trainer.train(train_dataloader=train_dataloader, val_dataloader=val_dataloader)\n",
      "  File \"./libs/workers/trainer.py\", line 185, in train\n",
      "    self.train_epoch(epoch=epoch, dataloader=train_dataloader)\n",
      "  File \"./libs/workers/trainer.py\", line 105, in train_epoch\n",
      "    scaled_loss.backward()\n",
      "  File \"/usr/lib/python3.8/contextlib.py\", line 120, in __exit__\n",
      "    next(self.gen)\n",
      "  File \"/home/kvu/cassava-leaf-disease-classification/venv/lib/python3.8/site-packages/apex-0.1-py3.8.egg/apex/amp/handle.py\", line 123, in scale_loss\n"
     ]
    }
   ],
   "source": [
    "!python3 hyperparams_tuner.py --config configs/vitTemp.yaml --gpus 0 --optuna_n_trials=1"
   ]
  },
  {
   "cell_type": "code",
   "execution_count": null,
   "metadata": {},
   "outputs": [],
   "source": []
  }
 ],
 "metadata": {
  "kernelspec": {
   "display_name": "Python 3",
   "language": "python",
   "name": "python3"
  },
  "language_info": {
   "codemirror_mode": {
    "name": "ipython",
    "version": 3
   },
   "file_extension": ".py",
   "mimetype": "text/x-python",
   "name": "python",
   "nbconvert_exporter": "python",
   "pygments_lexer": "ipython3",
   "version": "3.8.5"
  }
 },
 "nbformat": 4,
 "nbformat_minor": 4
}

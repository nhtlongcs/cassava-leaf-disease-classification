{
 "cells": [
  {
   "cell_type": "code",
   "execution_count": 1,
   "metadata": {},
   "outputs": [
    {
     "name": "stdout",
     "output_type": "stream",
     "text": [
      "\u001b[32m[I 2020-12-13 04:26:13,584]\u001b[0m A new study created in memory with name: optuna_v0\u001b[0m\n",
      "\u001b[33m[W 2020-12-13 04:26:16,223]\u001b[0m Trial 0 failed because of the following error: KeyError('verbose')\n",
      "Traceback (most recent call last):\n",
      "  File \"/home/kvu/cassava-leaf-disease-classification/venv/lib/python3.8/site-packages/optuna/_optimize.py\", line 189, in _run_trial\n",
      "    value = func(trial)\n",
      "  File \"hyperparams_tuner.py\", line 122, in __call__\n",
      "    val_acc = train(trial, self.config)\n",
      "  File \"hyperparams_tuner.py\", line 102, in train\n",
      "    trainer = Trainer(\n",
      "  File \"./libs/workers/trainer.py\", line 39, in __init__\n",
      "    self.verbose = self.config[\"verbose\"]\n",
      "KeyError: 'verbose'\u001b[0m\n",
      "Traceback (most recent call last):\n",
      "  File \"hyperparams_tuner.py\", line 146, in <module>\n",
      "    study.optimize(Objective(config), n_trials=int(args.optuna_n_trials))\n",
      "  File \"/home/kvu/cassava-leaf-disease-classification/venv/lib/python3.8/site-packages/optuna/study.py\", line 306, in optimize\n",
      "    _optimize(\n",
      "  File \"/home/kvu/cassava-leaf-disease-classification/venv/lib/python3.8/site-packages/optuna/_optimize.py\", line 55, in _optimize\n",
      "    _optimize_sequential(\n",
      "  File \"/home/kvu/cassava-leaf-disease-classification/venv/lib/python3.8/site-packages/optuna/_optimize.py\", line 156, in _optimize_sequential\n",
      "    trial = _run_trial(study, func, catch)\n",
      "  File \"/home/kvu/cassava-leaf-disease-classification/venv/lib/python3.8/site-packages/optuna/_optimize.py\", line 189, in _run_trial\n",
      "    value = func(trial)\n",
      "  File \"hyperparams_tuner.py\", line 122, in __call__\n",
      "    val_acc = train(trial, self.config)\n",
      "  File \"hyperparams_tuner.py\", line 102, in train\n",
      "    trainer = Trainer(\n",
      "  File \"./libs/workers/trainer.py\", line 39, in __init__\n",
      "    self.verbose = self.config[\"verbose\"]\n",
      "KeyError: 'verbose'\n",
      "\u001b[0m"
     ]
    }
   ],
   "source": [
    "!python3 hyperparams_tuner.py --config configs/vit.yaml --gpus 0 --fp16 --optuna_n_trials=1"
   ]
  },
  {
   "cell_type": "code",
   "execution_count": null,
   "metadata": {},
   "outputs": [],
   "source": []
  }
 ],
 "metadata": {
  "kernelspec": {
   "display_name": "Python 3",
   "language": "python",
   "name": "python3"
  },
  "language_info": {
   "codemirror_mode": {
    "name": "ipython",
    "version": 3
   },
   "file_extension": ".py",
   "mimetype": "text/x-python",
   "name": "python",
   "nbconvert_exporter": "python",
   "pygments_lexer": "ipython3",
   "version": "3.8.5"
  }
 },
 "nbformat": 4,
 "nbformat_minor": 4
}
